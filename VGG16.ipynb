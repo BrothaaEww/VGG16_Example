{
  "nbformat": 4,
  "nbformat_minor": 0,
  "metadata": {
    "colab": {
      "provenance": [],
      "include_colab_link": true
    },
    "kernelspec": {
      "name": "python3",
      "display_name": "Python 3"
    },
    "language_info": {
      "name": "python"
    }
  },
  "cells": [
    {
      "cell_type": "markdown",
      "metadata": {
        "id": "view-in-github",
        "colab_type": "text"
      },
      "source": [
        "<a href=\"https://colab.research.google.com/github/BrothaaEww/VGG16_Example/blob/main/VGG16.ipynb\" target=\"_parent\"><img src=\"https://colab.research.google.com/assets/colab-badge.svg\" alt=\"Open In Colab\"/></a>"
      ]
    },
    {
      "cell_type": "code",
      "execution_count": null,
      "metadata": {
        "id": "MRsMQ1f4ee6-"
      },
      "outputs": [],
      "source": [
        "import tensorflow as tf\n",
        "import tensorflow_datasets as tfds\n",
        "from tensorflow.keras.utils import to_categorical\n",
        "#Loading images and labels\n",
        "(train_ds, train_labels), (test_ds, test_labels) = tfds.load(\"tf_flowers\",split=[\"train[:70%]\", \"train[:30%]\"],batch_size=-1, as_supervised=True)\n"
      ]
    },
    {
      "cell_type": "code",
      "source": [
        "## Resizing images\n",
        "train_ds = tf.image.resize(train_ds, (150, 150))\n",
        "test_ds = tf.image.resize(test_ds, (150, 150))\n",
        "\n",
        "## Transforming labels to correct format\n",
        "train_labels = to_categorical(train_labels, num_classes=5)\n",
        "test_labels = to_categorical(test_labels, num_classes=5)"
      ],
      "metadata": {
        "id": "WxowNHzkfyNU"
      },
      "execution_count": null,
      "outputs": []
    },
    {
      "cell_type": "code",
      "source": [],
      "metadata": {
        "id": "rmSH-I4Auch8"
      },
      "execution_count": null,
      "outputs": []
    },
    {
      "cell_type": "code",
      "source": [
        "from tensorflow.keras.applications.vgg16 import VGG16\n",
        "from tensorflow.keras.applications.vgg16 import preprocess_input\n",
        "\n",
        "## Loading VGG16 model\n",
        "base_model = VGG16(weights=\"imagenet\", include_top=False, input_shape=train_ds[0].shape)\n",
        "base_model.trainable = False ## Not trainable weights\n",
        "\n",
        "## Preprocessing input\n",
        "train_ds = preprocess_input(train_ds)\n",
        "test_ds = preprocess_input(test_ds)"
      ],
      "metadata": {
        "colab": {
          "base_uri": "https://localhost:8080/"
        },
        "id": "9b699zWUgWdz",
        "outputId": "a2dfc261-729b-49f9-95f1-4e08d5aee8e1"
      },
      "execution_count": null,
      "outputs": [
        {
          "output_type": "stream",
          "name": "stdout",
          "text": [
            "Downloading data from https://storage.googleapis.com/tensorflow/keras-applications/vgg16/vgg16_weights_tf_dim_ordering_tf_kernels_notop.h5\n",
            "58892288/58889256 [==============================] - 0s 0us/step\n",
            "58900480/58889256 [==============================] - 0s 0us/step\n"
          ]
        }
      ]
    },
    {
      "cell_type": "code",
      "source": [
        "base_model.summary()"
      ],
      "metadata": {
        "colab": {
          "base_uri": "https://localhost:8080/"
        },
        "id": "zP-9dTvogvtE",
        "outputId": "e7665539-a0b9-47f6-d6e6-89d6ac74a735"
      },
      "execution_count": null,
      "outputs": [
        {
          "output_type": "stream",
          "name": "stdout",
          "text": [
            "Model: \"vgg16\"\n",
            "_________________________________________________________________\n",
            " Layer (type)                Output Shape              Param #   \n",
            "=================================================================\n",
            " input_1 (InputLayer)        [(None, 150, 150, 3)]     0         \n",
            "                                                                 \n",
            " block1_conv1 (Conv2D)       (None, 150, 150, 64)      1792      \n",
            "                                                                 \n",
            " block1_conv2 (Conv2D)       (None, 150, 150, 64)      36928     \n",
            "                                                                 \n",
            " block1_pool (MaxPooling2D)  (None, 75, 75, 64)        0         \n",
            "                                                                 \n",
            " block2_conv1 (Conv2D)       (None, 75, 75, 128)       73856     \n",
            "                                                                 \n",
            " block2_conv2 (Conv2D)       (None, 75, 75, 128)       147584    \n",
            "                                                                 \n",
            " block2_pool (MaxPooling2D)  (None, 37, 37, 128)       0         \n",
            "                                                                 \n",
            " block3_conv1 (Conv2D)       (None, 37, 37, 256)       295168    \n",
            "                                                                 \n",
            " block3_conv2 (Conv2D)       (None, 37, 37, 256)       590080    \n",
            "                                                                 \n",
            " block3_conv3 (Conv2D)       (None, 37, 37, 256)       590080    \n",
            "                                                                 \n",
            " block3_pool (MaxPooling2D)  (None, 18, 18, 256)       0         \n",
            "                                                                 \n",
            " block4_conv1 (Conv2D)       (None, 18, 18, 512)       1180160   \n",
            "                                                                 \n",
            " block4_conv2 (Conv2D)       (None, 18, 18, 512)       2359808   \n",
            "                                                                 \n",
            " block4_conv3 (Conv2D)       (None, 18, 18, 512)       2359808   \n",
            "                                                                 \n",
            " block4_pool (MaxPooling2D)  (None, 9, 9, 512)         0         \n",
            "                                                                 \n",
            " block5_conv1 (Conv2D)       (None, 9, 9, 512)         2359808   \n",
            "                                                                 \n",
            " block5_conv2 (Conv2D)       (None, 9, 9, 512)         2359808   \n",
            "                                                                 \n",
            " block5_conv3 (Conv2D)       (None, 9, 9, 512)         2359808   \n",
            "                                                                 \n",
            " block5_pool (MaxPooling2D)  (None, 4, 4, 512)         0         \n",
            "                                                                 \n",
            "=================================================================\n",
            "Total params: 14,714,688\n",
            "Trainable params: 0\n",
            "Non-trainable params: 14,714,688\n",
            "_________________________________________________________________\n"
          ]
        }
      ]
    },
    {
      "cell_type": "code",
      "source": [
        "from tensorflow.keras import layers, models\n",
        "\n",
        "flatten_layer = layers.Flatten()\n",
        "dense_layer_1 = layers.Dense(50, activation='relu')\n",
        "dense_layer_2 = layers.Dense(20, activation='relu')\n",
        "prediction_layer = layers.Dense(5, activation='softmax')\n",
        "\n",
        "\n",
        "model = models.Sequential([\n",
        "    base_model,\n",
        "    flatten_layer,\n",
        "    dense_layer_1,\n",
        "    dense_layer_2,\n",
        "    prediction_layer\n",
        "])"
      ],
      "metadata": {
        "id": "38RUaqhwgzss"
      },
      "execution_count": null,
      "outputs": []
    },
    {
      "cell_type": "code",
      "source": [
        "from tensorflow.keras.callbacks import EarlyStopping\n",
        "\n",
        "model.compile(\n",
        "    optimizer='adam',\n",
        "    loss='categorical_crossentropy',\n",
        "    metrics=['accuracy'],\n",
        ")\n",
        "\n",
        "\n",
        "es = EarlyStopping(monitor='val_accuracy', mode='max', patience=5,  restore_best_weights=True)\n",
        "\n",
        "model.fit(train_ds, train_labels, epochs=50, validation_split=0.2, batch_size=32, callbacks=[es])"
      ],
      "metadata": {
        "colab": {
          "base_uri": "https://localhost:8080/"
        },
        "id": "SDlrm2cMhH5U",
        "outputId": "db2f1a70-32c4-4967-9f74-aa0f0dae1020"
      },
      "execution_count": null,
      "outputs": [
        {
          "output_type": "stream",
          "name": "stdout",
          "text": [
            "Epoch 1/50\n",
            "65/65 [==============================] - 562s 9s/step - loss: 1.5857 - accuracy: 0.5032 - val_loss: 1.0159 - val_accuracy: 0.6284\n",
            "Epoch 2/50\n",
            "65/65 [==============================] - 562s 9s/step - loss: 0.7999 - accuracy: 0.7309 - val_loss: 1.0058 - val_accuracy: 0.6265\n",
            "Epoch 3/50\n",
            "65/65 [==============================] - 564s 9s/step - loss: 0.5382 - accuracy: 0.8015 - val_loss: 1.0122 - val_accuracy: 0.6809\n",
            "Epoch 4/50\n",
            "65/65 [==============================] - 559s 9s/step - loss: 0.3785 - accuracy: 0.8657 - val_loss: 1.0093 - val_accuracy: 0.6926\n",
            "Epoch 5/50\n",
            "65/65 [==============================] - 554s 9s/step - loss: 0.2727 - accuracy: 0.9100 - val_loss: 1.0410 - val_accuracy: 0.6770\n",
            "Epoch 6/50\n",
            "65/65 [==============================] - 556s 9s/step - loss: 0.1874 - accuracy: 0.9406 - val_loss: 1.0884 - val_accuracy: 0.6946\n",
            "Epoch 7/50\n",
            "65/65 [==============================] - 555s 9s/step - loss: 0.1582 - accuracy: 0.9518 - val_loss: 1.2449 - val_accuracy: 0.6887\n",
            "Epoch 8/50\n",
            "65/65 [==============================] - 553s 9s/step - loss: 0.1091 - accuracy: 0.9674 - val_loss: 1.3424 - val_accuracy: 0.6887\n",
            "Epoch 9/50\n",
            "65/65 [==============================] - 553s 9s/step - loss: 0.0690 - accuracy: 0.9805 - val_loss: 1.2867 - val_accuracy: 0.6809\n",
            "Epoch 10/50\n",
            "65/65 [==============================] - 553s 9s/step - loss: 0.0532 - accuracy: 0.9869 - val_loss: 1.3294 - val_accuracy: 0.6926\n",
            "Epoch 11/50\n",
            "65/65 [==============================] - 552s 9s/step - loss: 0.0319 - accuracy: 0.9946 - val_loss: 1.4145 - val_accuracy: 0.7082\n",
            "Epoch 12/50\n",
            "65/65 [==============================] - 551s 9s/step - loss: 0.0265 - accuracy: 0.9961 - val_loss: 1.4827 - val_accuracy: 0.7023\n",
            "Epoch 13/50\n",
            "65/65 [==============================] - 550s 8s/step - loss: 0.0216 - accuracy: 0.9956 - val_loss: 1.6131 - val_accuracy: 0.6926\n",
            "Epoch 14/50\n",
            "65/65 [==============================] - 550s 8s/step - loss: 0.0140 - accuracy: 0.9981 - val_loss: 1.5654 - val_accuracy: 0.6984\n",
            "Epoch 15/50\n",
            "65/65 [==============================] - 550s 8s/step - loss: 0.0112 - accuracy: 0.9981 - val_loss: 1.6082 - val_accuracy: 0.6926\n",
            "Epoch 16/50\n",
            "65/65 [==============================] - 551s 8s/step - loss: 0.0083 - accuracy: 0.9985 - val_loss: 1.6208 - val_accuracy: 0.6946\n"
          ]
        },
        {
          "output_type": "execute_result",
          "data": {
            "text/plain": [
              "<keras.callbacks.History at 0x7ff6b848c950>"
            ]
          },
          "metadata": {},
          "execution_count": 12
        }
      ]
    },
    {
      "cell_type": "code",
      "source": [
        "import matplotlib.pyplot as plt\n",
        "plt.plot(history.history['accuracy'], label='accuracy')\n",
        "plt.plot(history.history['val_accuracy'], label = 'val_accuracy')\n",
        "plt.xlabel('Epoch')\n",
        "plt.ylabel('Accuracy')\n",
        "plt.ylim([0.5, 1])\n",
        "plt.legend(loc='lower right')\n"
      ],
      "metadata": {
        "id": "rlcy_WpJuf2y"
      },
      "execution_count": null,
      "outputs": []
    },
    {
      "cell_type": "code",
      "source": [],
      "metadata": {
        "id": "hMcDvy--MISw"
      },
      "execution_count": null,
      "outputs": []
    }
  ]
}